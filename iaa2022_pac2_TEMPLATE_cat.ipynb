{
  "nbformat": 4,
  "nbformat_minor": 0,
  "metadata": {
    "colab": {
      "provenance": [],
      "include_colab_link": true
    },
    "kernelspec": {
      "name": "python3",
      "display_name": "Python 3"
    },
    "language_info": {
      "name": "python"
    }
  },
  "cells": [
    {
      "cell_type": "markdown",
      "metadata": {
        "id": "view-in-github",
        "colab_type": "text"
      },
      "source": [
        "<a href=\"https://colab.research.google.com/github/estherMC/formacio/blob/master/iaa2022_pac2_TEMPLATE_cat.ipynb\" target=\"_parent\"><img src=\"https://colab.research.google.com/assets/colab-badge.svg\" alt=\"Open In Colab\"/></a>"
      ]
    },
    {
      "cell_type": "markdown",
      "source": [
        "<div style=\"width: 100%; clear: both;\">\n",
        "<div style=\"float: left; width: 50%;\">\n",
        "<img src=\"http://www.uoc.edu/portal/_resources/common/imatges/marca_UOC/UOC_Masterbrand.jpg\", align=\"left\">\n",
        "</div>\n",
        "<div style=\"float: right; width: 50%;\">\n",
        "<p style=\"margin: 0; padding-top: 22px; text-align:right;\">M1.204 · Intel·ligència Artificial Avançada / M0.539 · Intel·ligència Artificial</p>\n",
        "<p style=\"margin: 0; text-align:right;\">MU Enginyeria Informàtica / MU Enginyeria Computacional i Matemàtica</p>\n",
        "<p style=\"margin: 0; text-align:right; padding-button: 100px;\">Estudis d'Informàtica, Multimèdia i Telecomunicació</p>\n",
        "</div>\n",
        "</div>\n",
        "<div style=\"width:100%;\">&nbsp;</div>"
      ],
      "metadata": {
        "id": "MB2ACKO0E1y0"
      }
    },
    {
      "cell_type": "markdown",
      "source": [
        "## PAC 2: REDUCCIÓ DE DIMENSIONALITAT I CLASSIFICACIÓ"
      ],
      "metadata": {
        "id": "oMVm1hhdFA3D"
      }
    },
    {
      "cell_type": "markdown",
      "source": [
        "###Presentació\n",
        "\n",
        "En aquesta prova d’avaluació estudiarem com aplicar tècniques de reducció\n",
        "de la dimensionalitat i el desenvolupament d'algorismes classificadors."
      ],
      "metadata": {
        "id": "22ja2SDWFRAa"
      }
    },
    {
      "cell_type": "markdown",
      "source": [
        "###Competències\n",
        "\n",
        "En aquest enunciat es treballaran en un determinat grau les competències\n",
        "generals de màster següents:\n",
        "\n",
        "- Capacitat per a projectar, calcular i dissenyar productes, processos i\n",
        "instal·lacions en tots els àmbits de l’enginyeria en informàtica.\n",
        "- Capacitat per al modelat matemàtic, càlcul i simulació en centres\n",
        "tecnològics i d’enginyeria d’empresa, particularment en tasques de\n",
        "recerca, desenvolupament i innovació en tots els àmbits relacionats\n",
        "amb l’enginyeria en informàtica.\n",
        "- Capacitat per a l’aplicació dels coneixements adquirits i per solucionar\n",
        "problemes en entorns nous o poc coneguts dins de contextos més\n",
        "amplis i multidisciplinars, sent capaços d’integrar aquest\n",
        "coneixements.\n",
        "- Disposar d'habilitats per a l’aprenentatge continuat, autodirigit i autònom\n",
        "- Capacitat per modelar, dissenyar, definir l’arquitectura, implementar,\n",
        "gestionar, operar, administrar i mantenir aplicacions, xarxes, sistemes,\n",
        "serveis i continguts informàtics.\n",
        "- Capacitat per assegurar, gestionar, auditar i certificar la qualitat dels\n",
        "desenvolupaments, processos, sistemes, serveis, aplicacions i\n",
        "productes informàtics..\n",
        "\n",
        "Les competències específiques d’aquesta assignatura que es treballaran són:\n",
        "- Entendre què és l’aprenentatge automàtic en el context de la\n",
        "Intel·ligència Artificial.\n",
        "- Distingir entre els diferents tipus i mètodes d’aprenentatge.\n",
        "- Aplicar les tècniques estudiades a un cas concret."
      ],
      "metadata": {
        "id": "qiBHwfmbF1m2"
      }
    },
    {
      "cell_type": "markdown",
      "source": [
        "###Objectius\n",
        "\n",
        "En aquesta PAC estudiareu el tractament de dades reals sobre vins i l'aplicació de tècniques de reducció de la dimensionalitat, concretament, l'anàlisi de components principals (_Principal Component Analysis_, PCA). En la segona part, treballareu amb diferents algorismes de classificació, i tècniques i mètriques de validació."
      ],
      "metadata": {
        "id": "kNq8i-PnF36y"
      }
    },
    {
      "cell_type": "markdown",
      "source": [
        "###Recursos\n",
        "\n",
        "Aquesta PAC requereix els recursos següents:\n",
        "\n",
        "Arxius proporcionats:\n",
        "\n",
        "  * L'arxiu .ipynb que esteu llegint i que haureu de completar amb les vostres respostes per resoldre la PAC.\n",
        "\n",
        "Complementaris:\n",
        "  * Manual de teoria de l’assignatura i documentació de les llibreries utilitzades (_scikit-learn_, _pandas_, _seaborn_,...)."
      ],
      "metadata": {
        "id": "TgqHljy8F-JC"
      }
    },
    {
      "cell_type": "markdown",
      "source": [
        "###Lliurament i criteris d'avaluació\n",
        "\n",
        "La pràctica s'ha de lliurar el **26 d'abril del 2022**.\n",
        "\n",
        "El lliurament ha d'incloure una versió editada d'aquest cuadern (.ipynb). Es recomana l'ús de Google Colab (https://colab.research.google.com/). El codi de les solucions als exercicis s'ha de implementar i executar a les cel·les de codi proporcionades i les respostes justificades s'han d'afegir a les cel·les de text corresponents.\n",
        "\n",
        "Totes les respostes han d'estar correctament raonades i justificades. **Les solucions que no vagin acompanyades de la corresponent resposta raonada no seran avaluades**.\n",
        "\n",
        "Els exercicis es valoraran de la següent forma:\n",
        "* Activitat 1: 5 punts\n",
        "* Activitat 2: 5 punts\n",
        "\n",
        "Cada exercici serà avaluat tenint en compte tant la correcció tècnica de la solució com la justificació i argumentació del procediment i els resultats."
      ],
      "metadata": {
        "id": "9vkpqiWbHK-S"
      }
    },
    {
      "cell_type": "markdown",
      "source": [
        "###Descripció de la PAC"
      ],
      "metadata": {
        "id": "g9gXabVOHUW9"
      }
    },
    {
      "cell_type": "markdown",
      "source": [
        "En aquesta PAC s'aplicaran tècniques de reducció de la dimensionalitat i de\n",
        "classificació sobre dades de diferents tipus de vins obtingudes a partir del seu anàlisi químic:\n",
        "\n",
        "> Forina, M. \"An extendible package for data exploration, classification and correlation (1998).\" Institute of Pharmaceutical and Food Analysis and Technologies.\n",
        "\n",
        "El conjunt de dades inclou mostres de tres tipus de vins produits a una mateixa regió d'Itàlia però provinents de diferents cultius. Les dades es van generar a partir de l'anàlisi químic de diferents mostres. Els atributs inclouen, entre altres, la graduació,  el color o el contingut de magnesi.\n",
        "\n",
        "Es possible consultar una descripció completa del conjunt de dades mitjançant el següent enllaç:\n",
        "\n",
        "https://archive.ics.uci.edu/ml/datasets/Wine\n",
        "\n",
        "L'objectiu d'aquesta prova és estudiar i fer ús de mètodes de reducció\n",
        "de la dimensionalitat i familiaritzar-vos amb el desenvolupament i validació  d'algorismes de classificació automàtica.\n",
        "\n",
        "Les solucions als exercicis estaran basades principalment en la llibreria de codi obert _scikit-learn_ de Python, que incorpora una gran varietat d’algorismes d’aprenentatge automàtic, preprocessament, validació i visualització. Per tant, és molt important que consulteu la documentació oficial sempre que sigui necessari:\n",
        "\n",
        "https://scikit-learn.org/stable/"
      ],
      "metadata": {
        "id": "30AZmsTgH6ua"
      }
    },
    {
      "cell_type": "markdown",
      "source": [
        "## EXERCICI 1"
      ],
      "metadata": {
        "id": "nzZeyiY5ECOY"
      }
    },
    {
      "cell_type": "markdown",
      "source": [
        "Per començar, haurem d'importar alguns mòduls necessaris i carregar les dades. El conjunt de dades original està disponible a _scikit-learn_ i forma part del mòdul _datasets_.\n",
        "\n",
        "https://scikit-learn.org/stable/modules/generated/sklearn.datasets.load_wine\n",
        "\n",
        "Estudieu i executeu el codi proporcionat a la propera cel·la i familiaritzeu-vos amb el conjunt de dades."
      ],
      "metadata": {
        "id": "GDhdONPfK_Yq"
      }
    },
    {
      "cell_type": "code",
      "source": [
        "import pandas as pd\n",
        "import numpy as np\n",
        "from sklearn.datasets import load_wine\n",
        "\n",
        "raw_data = load_wine()\n",
        "\n",
        "df_features = pd.DataFrame(raw_data['data'],\n",
        "                           columns=raw_data['feature_names'])\n",
        "df_labels = pd.DataFrame({'label': raw_data['target']})"
      ],
      "metadata": {
        "id": "vz55ZWSo4L2F"
      },
      "execution_count": null,
      "outputs": []
    },
    {
      "cell_type": "markdown",
      "source": [
        "**1.a) (0.5 PUNT)** Exploreu el conjunt de dades.\n",
        "\n",
        "Un cop carregat el conjunt de dades us he de familiaritzar amb el seu contingut. Aquest apartat no és diferent d'alguns que ja heu treballat en la PAC1.\n",
        "\n",
        "Respongueu a les preguntes següents:\n",
        "- Quins són els atributs inclosos en el conjunt de dades?\n",
        "- Quantes mostres inclou el conjunt de dades?\n",
        "- Quantes classes, i quantes mostres de cadascuna, inclou el conjunt de dades?"
      ],
      "metadata": {
        "id": "diuzkaFIDg75"
      }
    },
    {
      "cell_type": "code",
      "source": [
        "# 1.a: afegiu i executeu el vostre codi aquí"
      ],
      "metadata": {
        "id": "cTZj5ehzME5V"
      },
      "execution_count": null,
      "outputs": []
    },
    {
      "cell_type": "markdown",
      "source": [
        "**1.b) (1 PUNT)** Els conjunts de dades sovint inclouen un gran nombre de mostres i atributs. El seu anàlisi s'ha de portar a terme amb tècniques estadístiques i de mineria de dades i la visualització no sempre és fàcilment accessible. Tot i això, la visualització parcial en alguns casos pot donar algunes pistes. Un exemple seria el nostre cas, donat que estem treballant amb un conjunt de dades de dimensions força reduïdes.\n",
        "\n",
        "Per els 8 primers atributs, mostreu les gràfiques de dispersió (_scatter plot_) de totes les parelles d'atributs. Per fer-ho, genereu una reixa de 8x8 gràfiques de manera que la gràfica de la posició [ _i_, _j_] correspongui a la gràfica de dispersió de l'atribut _i_ (eix y) i l'atribut _j_ (eix x).\n",
        "\n",
        "Nota: la diagonal de la reixa correspondrà a un únic atribut i, per tant, podeu deixar en blanc les gràfiques corresponents."
      ],
      "metadata": {
        "id": "Y1phLHIOMdIL"
      }
    },
    {
      "cell_type": "code",
      "source": [
        "# 1.b: afegiu i executeu el vostre codi aquí"
      ],
      "metadata": {
        "id": "KDmKLkNxZUEW"
      },
      "execution_count": null,
      "outputs": []
    },
    {
      "cell_type": "markdown",
      "source": [
        "Afegiu aquí la vostra resposta.\n"
      ],
      "metadata": {
        "id": "26UceelcTtQe"
      }
    },
    {
      "cell_type": "markdown",
      "source": [
        "**1.c) (1 PUNT)** Representeu en una gràfica la mitjana i la desviació típica de tots els atributs. Comenteu la gràfica obtinguda, identifiqueu els atributs amb màxima i mínima dispersió (desviació típica) i proporcioneu-ne els valors.\n",
        "\n",
        "Nota: Podeu fer servir _matplotlib.pyplot.errorbar_ per representar la desviació estàndar."
      ],
      "metadata": {
        "id": "9d84lfbKDtJk"
      }
    },
    {
      "cell_type": "code",
      "source": [
        "# 1.c: afegiu i executeu el vostre codi aquí"
      ],
      "metadata": {
        "id": "AiHD3CkNxhiI"
      },
      "execution_count": null,
      "outputs": []
    },
    {
      "cell_type": "markdown",
      "source": [
        "Afegiu aquí la vostra resposta.\n"
      ],
      "metadata": {
        "id": "Jqyi_z29Z2uN"
      }
    },
    {
      "cell_type": "markdown",
      "source": [
        "**1.d) (1 PUNT)** Apliqueu un anàlisi PCA a les dades i, de manera similar a l’Exercici 1.c, representeu en una gràfica la mitjana i la desviació típica de tots els atributs. Identifiqueu els atributs amb màxima i mínima dispersió (desviació típica) i els seus corresponents valors. Comenteu els resultats."
      ],
      "metadata": {
        "id": "kNBx0O2vEWFP"
      }
    },
    {
      "cell_type": "code",
      "source": [
        "# 1.d: afegiu i executeu el vostre codi aquí"
      ],
      "metadata": {
        "id": "MMtIAgLfbklA"
      },
      "execution_count": null,
      "outputs": []
    },
    {
      "cell_type": "markdown",
      "source": [
        "Afegiu aquí la vostra resposta."
      ],
      "metadata": {
        "id": "aSGpCr1_jtCn"
      }
    },
    {
      "cell_type": "markdown",
      "source": [
        "**1.e) (0.5 PUNTS)** De la mateixa manera que a l’exercici 1.b, però en aquest cas per les 8 primeres components principals (espai PCA), mostreu les gràfiques de dispersió (_scatter plot_) de les parelles de components en una reixa de 8x8 gràfiques. Comenteu el resultat."
      ],
      "metadata": {
        "id": "glBwP02sEYxD"
      }
    },
    {
      "cell_type": "code",
      "source": [
        "# 1.e: afegiu i executeu el vostre codi aquí"
      ],
      "metadata": {
        "id": "Q4Rc0ePsjrRJ"
      },
      "execution_count": null,
      "outputs": []
    },
    {
      "cell_type": "markdown",
      "source": [
        "Afegiu aquí la vostra resposta."
      ],
      "metadata": {
        "id": "-_tEp4-nmEbe"
      }
    },
    {
      "cell_type": "markdown",
      "source": [
        "**1.f) (1 PUNTS)** Mostreu el gràfic de la variància acumulada explicada per l'espai PCA en relació al nombre de components. Identifiqueu quants components PCA són necessaris per representar un 90% de la variància de les dades originals."
      ],
      "metadata": {
        "id": "5Kn64KzhEh3L"
      }
    },
    {
      "cell_type": "code",
      "source": [
        "# 1.f: afegiu i executeu el vostre codi aquí"
      ],
      "metadata": {
        "id": "-2BzAcSQks7V"
      },
      "execution_count": null,
      "outputs": []
    },
    {
      "cell_type": "markdown",
      "source": [
        "## EXERCICI 2"
      ],
      "metadata": {
        "id": "LZTlvxoCEFVy"
      }
    },
    {
      "cell_type": "markdown",
      "source": [
        "En aquest exercici treballarem amb diferents algorismes de classificació, tècniques de validació i mesures d’avaluació. Amb aquest objectiu, farem servir una nova versió del conjunt de dades on la quantitat de classes s’ha reduït a dos. Estudieu i executeu el codi proporcionat a la següent cel·la."
      ],
      "metadata": {
        "id": "9HNaq8nmB2fQ"
      }
    },
    {
      "cell_type": "code",
      "source": [
        "import pandas as pd\n",
        "import numpy as np\n",
        "from sklearn.datasets import load_wine\n",
        "\n",
        "raw_data = load_wine()\n",
        "\n",
        "df_features = pd.DataFrame(raw_data['data'],\n",
        "                           columns=raw_data['feature_names'])\n",
        "df_labels = pd.DataFrame({'label': raw_data['target']})\n",
        "df_labels[df_labels==2] = 0"
      ],
      "metadata": {
        "id": "0a_uN9GS7FAq"
      },
      "execution_count": null,
      "outputs": []
    },
    {
      "cell_type": "markdown",
      "source": [
        "**2.a) (1 PUNT)** Entreneu un arbre de decisió de profunditat 4, implementat en _scikit-learn_, fent servir el 70% de les dades disponibles (conjunt d’entrenament) i calculeu el temps d’entrenament\n",
        "\n",
        "https://scikit-learn.org/stable/modules/generated/sklearn.tree.DecisionTreeClassifier.html"
      ],
      "metadata": {
        "id": "kL4fD1KVEIGp"
      }
    },
    {
      "cell_type": "code",
      "source": [
        "# 2.a: afegiu i executeu el vostre codi aquí"
      ],
      "metadata": {
        "id": "2i8cg4aDCNvJ"
      },
      "execution_count": null,
      "outputs": []
    },
    {
      "cell_type": "markdown",
      "source": [
        "**2.b) (1 PUNT)** Representeu l'arbre de decisió obtingut. Quins és l'atribut amb més valor descriptiu?\n",
        "\n",
        "Nota: Podeu fer servir el mètode _sklearn.tree.plot_tree_.\n",
        "\n",
        "https://scikit-learn.org/stable/modules/generated/sklearn.tree.plot_tree.html"
      ],
      "metadata": {
        "id": "DFqtufLZvKD7"
      }
    },
    {
      "cell_type": "code",
      "source": [
        "# 2.b: afegiu i executeu el vostre codi aquí"
      ],
      "metadata": {
        "id": "Yyc_U1l9rrl3"
      },
      "execution_count": null,
      "outputs": []
    },
    {
      "cell_type": "markdown",
      "source": [
        "Afegiu aquí la vostra resposta."
      ],
      "metadata": {
        "id": "Z6IcmuomsZOp"
      }
    },
    {
      "cell_type": "markdown",
      "source": [
        "**2.c) (1 PUNT)** Per el conjunt de test resultant (30% de les dades), representeu la matriu de confusió. Proporcioneu una definició amb les vostres paraules (no us limiteu a la fòrmula) de les mètriques precisió, recall i F1-score, i obtingueu els seus valors en el conjunt de test per totes les classes."
      ],
      "metadata": {
        "id": "yJHSEiwI8FUr"
      }
    },
    {
      "cell_type": "code",
      "source": [
        "# 2.c: afegiu i executeu el vostre codi aquí"
      ],
      "metadata": {
        "id": "jFqy2LVxH9gG"
      },
      "execution_count": null,
      "outputs": []
    },
    {
      "cell_type": "markdown",
      "source": [
        "Afegiu aquí la vostra resposta.\n"
      ],
      "metadata": {
        "id": "63RLJx1ax6E3"
      }
    },
    {
      "cell_type": "markdown",
      "source": [
        "**2.d) (1 PUNT)** Entreneu un classificador AdaBoost amb un arbre decisió de profunditat 2 com estimador i valideu-lo fent servir validació creuada amb k=5 a tot el conjunt de dades. Obteniu precision, recall, F1-score i comenteu els resultats.\n",
        "\n",
        "Nota: Feu servir _sklearn.model_selection.StratifiedKFold_ en el paràmetre _cv_ de _cross_validate_ per crear els subconjunts (_folds_, _splits_).\n",
        "\n",
        "https://scikit-learn.org/stable/modules/generated/sklearn.model_selection.cross_validate.html\n",
        "\n",
        "https://scikit-learn.org/stable/modules/generated/sklearn.model_selection.StratifiedKFold.html"
      ],
      "metadata": {
        "id": "dHTZtVKBAa4g"
      }
    },
    {
      "cell_type": "code",
      "source": [
        "# 2.d: afegiu i executeu el vostre codi aquí"
      ],
      "metadata": {
        "id": "ubqoZkcp1HsW"
      },
      "execution_count": null,
      "outputs": []
    },
    {
      "cell_type": "markdown",
      "source": [
        "**2.e) (1 PUNT)** Compareu la validació que s'ha fet servir a l'exercici 2.a amb la validació que s'ha fet servir a l'exercici 2.d. Quines deficiències pot tenir la validació simple? Quina és la utilitat de la validació creuada? En quins casos és necessari? Raoneu la vostra resposta."
      ],
      "metadata": {
        "id": "98hdLvQeAg3l"
      }
    },
    {
      "cell_type": "markdown",
      "source": [
        "Afegiu aquí la vostra resposta.\n"
      ],
      "metadata": {
        "id": "ifuO5jgqCP5f"
      }
    },
    {
      "cell_type": "markdown",
      "source": [
        "###Nota: Propietat intel·lectual\n",
        "\n",
        "Sovint és inevitable, en produir una obra multimèdia, fer ús de recursos creats per terceres persones. És per tant comprensible fer-ho en el marc d'una pràctica dels estudis del Màster en Informàtica, sempre i quan això es documenti clarament i no suposi plagi en la pràctica.\n",
        "\n",
        "Per tant, en presentar una pràctica que faci ús de recursos aliens, s'ha de presentar juntament amb ella un document en què es detallin tots ells, especificant el nom de cada recurs, el seu autor, el lloc on es va obtenir i el seu estatus legal: si l'obra està protegida pel copyright o s'acull a alguna altra llicència d'ús (Creative Commons, llicència GNU, GPL...). L'estudiant haurà d'assegurar-se que la llicència que sigui no impedeix específicament el seu ús en el marc de la pràctica. En cas de no trobar la informació corresponent haurà d'assumir que l'obra està protegida pel copyright.\n",
        "\n",
        "Hauran, a més, adjuntar els fitxers originals quan les obres utilitzades siguin digitals, i el seu codi font si correspon."
      ],
      "metadata": {
        "id": "fgazU_p3HtPO"
      }
    }
  ]
}