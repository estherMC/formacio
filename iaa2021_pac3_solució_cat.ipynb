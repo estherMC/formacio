{
  "nbformat": 4,
  "nbformat_minor": 0,
  "metadata": {
    "colab": {
      "provenance": [],
      "include_colab_link": true
    },
    "kernelspec": {
      "name": "python3",
      "display_name": "Python 3"
    },
    "language_info": {
      "name": "python"
    }
  },
  "cells": [
    {
      "cell_type": "markdown",
      "metadata": {
        "id": "view-in-github",
        "colab_type": "text"
      },
      "source": [
        "<a href=\"https://colab.research.google.com/github/estherMC/formacio/blob/master/iaa2021_pac3_soluci%C3%B3_cat.ipynb\" target=\"_parent\"><img src=\"https://colab.research.google.com/assets/colab-badge.svg\" alt=\"Open In Colab\"/></a>"
      ]
    },
    {
      "cell_type": "markdown",
      "metadata": {
        "id": "ErucVi1j6GBj"
      },
      "source": [
        "##### M0.539 · IAA · PAC3 · 2020-21 · 2\n",
        "##### Màster universitari d'Enginyeria Computacional i Matemàtica\n",
        "##### Universitat Oberta de Catalunya, Universitat Rovira i Virgili"
      ]
    },
    {
      "cell_type": "markdown",
      "metadata": {
        "id": "UjqB536N6z71"
      },
      "source": [
        "# PAC3: OPTIMITZACIÓ"
      ]
    },
    {
      "cell_type": "markdown",
      "metadata": {
        "id": "jlQaULJB6z72"
      },
      "source": [
        "## INTRODUCCIÓ"
      ]
    },
    {
      "cell_type": "markdown",
      "metadata": {
        "id": "R0iPmnYd65Wf"
      },
      "source": [
        "En aquesta prova d'avaluació estudiarem el comportament i característiques dels algorismes genètics implementant-ne una versió molt simple d'ells."
      ]
    },
    {
      "cell_type": "markdown",
      "metadata": {
        "id": "pNi-zLJb65Wg"
      },
      "source": [
        "## COMPETÈNCIES"
      ]
    },
    {
      "cell_type": "markdown",
      "metadata": {
        "id": "m_1EadUEwBJK"
      },
      "source": [
        "En aquest enunciat es treballaran en un determinat grau les competències\n",
        "generals de màster següents:\n",
        "\n",
        "- Capacitat per a projectar, calcular i dissenyar productes, processos i\n",
        "instal·lacions en tots els àmbits de l’enginyeria en informàtica.\n",
        "- Capacitat per al modelat matemàtic, càlcul i simulació en centres\n",
        "tecnològics i d’enginyeria d’empresa, particularment en tasques de\n",
        "recerca, desenvolupament i innovació en tots els àmbits relacionats\n",
        "amb l’enginyeria en informàtica.\n",
        "- Capacitat per a l’aplicació dels coneixements adquirits i per solucionar\n",
        "problemes en entorns nous o poc coneguts dins de contextos més\n",
        "amplis i multidisciplinars, sent capaços d’integrar aquest\n",
        "coneixements.\n",
        "- Disposar d'habilitats per a l’aprenentatge continuat, autodirigit i autònom\n",
        "- Capacitat per modelar, dissenyar, definir l’arquitectura, implementar,\n",
        "gestionar, operar, administrar i mantenir aplicacions, xarxes, sistemes,\n",
        "serveis i continguts informàtics.\n",
        "- Capacitat per assegurar, gestionar, auditar i certificar la qualitat dels\n",
        "desenvolupaments, processos, sistemes, serveis, aplicacions i\n",
        "productes informàtics..\n",
        "\n",
        "Les competències específiques d’aquesta assignatura que es treballaran són:\n",
        "- Entendre què és l’aprenentatge automàtic en el context de la\n",
        "Intel·ligència Artificial.\n",
        "- Distingir entre els diferents tipus i mètodes d’aprenentatge.\n",
        "- Aplicar les tècniques estudiades a un cas concret."
      ]
    },
    {
      "cell_type": "markdown",
      "metadata": {
        "id": "r2MQJTHO6_v7"
      },
      "source": [
        "## RECURSOS\n",
        "\n",
        "Aquesta PAC requereix els recursos següents:\n",
        "\n",
        "Arxius proporcionats:\n",
        "\n",
        "  * iaa2021_pac3_template_cat.ipynb\n",
        "\n",
        "Complementaris:\n",
        "  * Manual de teoria de l'assignatura, **especialment l'apartat 5.5**."
      ]
    },
    {
      "cell_type": "markdown",
      "metadata": {
        "id": "2hB-O-liwTec"
      },
      "source": [
        "## LLIURAMENT I CRITERIS D'AVALUACIÓ\n",
        "\n",
        "La pràctica s'ha de lliurar el **25 de maig de 2021**.\n",
        "\n",
        "El lliurament ha d'incloure una versió editada d'aquest cuadern (.ipynb). Es recomana l'ús de Google Colab (https://colab.research.google.com/). El codi de les solucions als exercicis s'ha de implementar i executar a les cel·les de codi proporcionades i les respostes justificades s'han d'afegir a les cel·les de text corresponents.\n",
        "\n",
        "Totes les respostes han d'estar correctament raonades i justificades. **Les solucions que no vagin acompanyades de la corresponent resposta raonada no seran avaluades**."
      ]
    },
    {
      "cell_type": "markdown",
      "metadata": {
        "id": "yoij59uX7EUE"
      },
      "source": [
        "## DESCRIPCIÓ DE LA PAC"
      ]
    },
    {
      "cell_type": "markdown",
      "metadata": {
        "id": "D2dM3zPx7JFZ"
      },
      "source": [
        "En aquesta PAC anem a implementar un algoritme genètic (GA) bàsic, analitzarem el seu comportament amb algunes funcions a optimitzar que posseeixen característiques interessants per avaluar algoritmes d'optimització, i raonarem a nivell teòric les implicacions dels diferents tipus de configuració de l'algoritme.\n",
        "\n",
        "A la fi de la realització d'aquesta PAC, l'alumne hauria de tenir la capacitat suficient com per adaptar l'algorisme a diferents problemes d'optimització, però per a la realització d'aquesta es proporcionen més endavant les codificacions de tres de les funcions explicades a:\n",
        "\n",
        "> Anescu, George. \"Scalable test functions for multidimensional continuous optimization\". _UPB Scientific Bulletin, Series C: Electrical Engineering_ 79(4) (2017).\n",
        "\n",
        "Es pot accedir a una versió completa de l'article [mitjançant aquest enllaç de ResearchGate](https://www.researchgate.net/publication/321037474_Scalable_test_functions_for_multidimensional_continuous_optimization).\n",
        "\n",
        "\n"
      ]
    },
    {
      "cell_type": "markdown",
      "metadata": {
        "id": "pLou5mp37JFa"
      },
      "source": [
        "**MOLT IMPORTANT**\n",
        "\n",
        "En els exercicis en què se sol·licita implementar codi dins d'un fragment de codi donat, tan sols podeu incloure codi entre els comentaris *# TO DO ...* i *# END OF TO DO*:\n",
        "\n",
        "```\n",
        "  # TO DO: Do something...\n",
        "\n",
        "  # Your code here ...\n",
        "  \n",
        "  # END OF TO DO\n",
        "```\n",
        "\n",
        "***No està permès modificar codi ja proporcionat ni escriure fora d'aquestes àrees (excepte si creeu funcions auxiliars pròpies que són cridades des de dins de les regions indicades). Altrament, l'exercici serà avaluat amb un 0.***"
      ]
    },
    {
      "cell_type": "markdown",
      "metadata": {
        "id": "29Zz1biD8jcj"
      },
      "source": [
        "<hr>"
      ]
    },
    {
      "cell_type": "markdown",
      "metadata": {
        "id": "IOSJ6iGL6S5F"
      },
      "source": [
        "## EXERCICI 1"
      ]
    },
    {
      "cell_type": "markdown",
      "metadata": {
        "id": "7dPC37jIRgOF"
      },
      "source": [
        "Com es pot observar en l'article anterior, ens basarem en l'optimització de funcions que admeten un nombre indeterminat de variables d'entrada, totes dins el domini dels nombres reals.\n",
        "\n",
        "Per a la implementació d'un algorisme genètic, un element essencial és la codificació de les possibles solucions del problema, o dit d'una altra manera, la codificació dels individus que evolucionaran durant l'execució de l'algorisme a través de diferents poblacions a les quals se'ls han d'aplicar diferents operadors evolutius fins a aconseguir una condició de finalització, bé sigui basada en el temps transcorregut, o en la qualitat dels resultats obtinguda.\n",
        "\n",
        "En aquesta ocasió, la codificació que emprarem serà molt bàsica: si volem optimitzar les diferents funcions en un espai N-dimensional, els nostres individus consistiran simplement en N valors reals. Cadascun d'aquests valors serà un dels seus gens i correspondrà a la valor d'una variable d'entrada de la funció.\n",
        "\n",
        "Així, si tenim una funció f<sub>1</sub>(**x**) on **x**=(x<sub>1</sub>, x<sub>2</sub>, x<sub>3</sub>, ..., x<sub>n</sub>), nostre individu consistirà en una matriu de *n* valors reals, i la funció retorna un valor a partir d'aquests *n* valors.\n",
        "\n",
        "Un exemple gràfic per a una funció es mostra en l'article referenciat. En el cas de f <sub>10</sub>, l'article ens mostra que el mínim teòric es troba en x = (0.4, 0.4) per a n = 2. L'objectiu del nostre algorisme genèric seria trobar aquest valor mínim.\n",
        "\n",
        "Per facilitar certs càlculs durant la PAC, la representació dels individus i altres operacions estaran basats en [la representació d'arrays de la llibreria NumPy] (https://numpy.org/doc/stable/reference/generated/numpy.array.html).\n",
        "\n",
        "Així doncs, el nostre primer pas serà importar les llibreries i útils necessaris:\n",
        "\n"
      ]
    },
    {
      "cell_type": "code",
      "metadata": {
        "id": "SrYuYnKU1yKC"
      },
      "source": [
        "import numpy as np\n",
        "from numpy.random import choice\n",
        "import random"
      ],
      "execution_count": null,
      "outputs": []
    },
    {
      "cell_type": "markdown",
      "metadata": {
        "id": "MHhLbZBc7p76"
      },
      "source": [
        "Tenint en compte la definició d'individu que acabem de realitzar, una funció senzilla que genera una població aleatòria d'individus d'una determinada mida i subjectes a una sèrie de restriccions seria com la següent:"
      ]
    },
    {
      "cell_type": "code",
      "metadata": {
        "id": "PH9qrdfeH3Lh"
      },
      "source": [
        "def generate_random_population(npop, limits=list(zip(np.zeros(5),np.ones(5))), ngenes=5):\n",
        "\n",
        "  def new_ind():\n",
        "    return [random.uniform(limits[i][0], limits[i][1]) for i in range(ngenes)]\n",
        "\n",
        "  return np.array([new_ind() for n in range(npop)])\n"
      ],
      "execution_count": null,
      "outputs": []
    },
    {
      "cell_type": "markdown",
      "metadata": {
        "id": "maP2jqEW7uJ6"
      },
      "source": [
        "Com es pot observar, un dels paràmetres d'entrada és una llista de tuples que representen els límits mínims i màxims de cada un dels valors, definint així el domini de la funció. En aquest cas, el valor **per defecte** d'aquest paràmetre és una llista de 5 tuples (0.0, 1.0), de manera que els valors mínim i màxim seran 0 i 1, respectivament. El valor del paràmetre *ngenes* (longitud de cada individu) ha de coincidir amb la longitud de la llista *limits*."
      ]
    },
    {
      "cell_type": "markdown",
      "metadata": {
        "id": "39ZUBemx7uJ6"
      },
      "source": [
        "**1.a) (0.5 PUNTS) Expliqueu en què consisteix la funció *generate_random_population*, què signifiquen els seus arguments i per a què s'utilitzen.**\n",
        "\n",
        "\n"
      ]
    },
    {
      "cell_type": "markdown",
      "metadata": {
        "id": "bnXpICeqRR_D"
      },
      "source": [
        "**Resposta:**\n",
        "\n",
        "Tal com es comenta anteriorment, l'objectiu de la funció és generar una població d'individus creats a l'atzar.\n",
        "L'argument npop és la mida (nombre d'individus) de la població resultant, mentre que ngenes és el nombre de variables que representa cada individu (el seu valor per defecte és 5).\n",
        "Per crear cada individu de la població, es fa ús d'una funció de suport new_ind(), que genera un nou individu (una matriu de valors reals) de manera aleatòria mitjançant random.uniform, però obeint a unes restriccions marcades per l'argument de entrada limits. Per defecte, aquestes restriccions consisteixen en què els gens de cada individu no poden tenir un valor inferior a 0 ni superior a 1.\n"
      ]
    },
    {
      "cell_type": "markdown",
      "metadata": {
        "id": "HxpRHEOa8HSr"
      },
      "source": [
        "**1.b) (0.5 PUNTS) Perquè la funció *generate_random_population* funcioni correctament, cal fer algunes comprovacions. Redefiniu la funció de manera que es facin les comprovacions necessàries perquè la població resultant tingui sentit i no hi hagi errors d'execució. Mostreu un missatge d'error en cas que no es compleixin les condicions adequades.**\n",
        "\n",
        "\n"
      ]
    },
    {
      "cell_type": "code",
      "metadata": {
        "id": "DGbLoyISU_eK"
      },
      "source": [
        "def generate_random_population(npop, limits=list(zip(np.zeros(5),np.ones(5))), ngenes=5):\n",
        "\n",
        "  # TO DO: DO YOUR CHECKS\n",
        "\n",
        "  # Your code here ...\n",
        "\n",
        "  # END OF TO DO\n",
        "\n",
        "  def new_ind():\n",
        "    return [random.uniform(limits[i][0], limits[i][1]) for i in range(ngenes)]\n",
        "\n",
        "  return np.array([new_ind() for n in range(npop)])"
      ],
      "execution_count": null,
      "outputs": []
    },
    {
      "cell_type": "markdown",
      "metadata": {
        "id": "DQGrtWJeU7Xy"
      },
      "source": [
        "**Resposta:**"
      ]
    },
    {
      "cell_type": "code",
      "metadata": {
        "id": "LYm2XI1mTiwa"
      },
      "source": [
        "def generate_random_population(npop, limits=list(zip(np.zeros(5),np.ones(5))), ngenes=5):\n",
        "\n",
        "  # It is necessary to check that the number of tuples in limits equals the number of genes specified in ngenes.\n",
        "  # Also, for the individuals to make sense, lower limits must be lower or equal than upper limits.\n",
        "\n",
        "  if len(limits) != ngenes:\n",
        "    print(\"Error: length of limits and length of ngenes do not match.\")\n",
        "    return\n",
        "\n",
        "  for l in limits:\n",
        "    if l[0] > l[1]:\n",
        "      print(\"Error: lower limit is higher than upper limit in\", l)\n",
        "      return\n",
        "\n",
        "  def new_ind():\n",
        "    return [random.uniform(limits[i][0], limits[i][1]) for i in range(ngenes)]\n",
        "\n",
        "  return np.array([new_ind() for n in range(npop)])\n"
      ],
      "execution_count": null,
      "outputs": []
    },
    {
      "cell_type": "markdown",
      "metadata": {
        "id": "ppwwqz-T8EYI"
      },
      "source": [
        "<hr>"
      ]
    },
    {
      "cell_type": "markdown",
      "metadata": {
        "id": "wLTZ1Vb-Wzht"
      },
      "source": [
        "Un altre aspecte essencial per al funcionament d'un GA és la puntuació que els diferents individus reben com a mitjà per avaluar com de bo és un individu a l'hora d'optimitzar el nostre problema. Així, quan disposem d'una determinada població, hem de ser capaços d'avaluar tots els individus i donar-los una puntuació, de manera que puguem ordenar la població segons la bondat dels seus individus per resoldre el nostre problema.\n",
        "\n",
        "A continuació es defineixen 3 de les funcions discutides en l'article anteriorment esmentat, que seran la base dels nostres posteriors exercicis. Aquestes corresponen a les funcions f<sub>1</sub>, f<sub>8</sub> i f<sub>13</sub> de l'apartat 3 de l'article, on podeu trobar les seves peculiaritats i valors òptims teòrics. Les funcions reben com a argument un individu tal com l'hem definit anteriorment, i retornen seu corresponent valor.\n",
        "\n",
        "Per exemple, f<sub>1</sub> només té un mínim (unimodal) en x = (0,0, ..., 0) en el qual f<sub>1</sub> = 0.\n",
        "\n",
        "Podeu definir lliurement les vostres pròpies funcions alternatives per a les vostres pròpies comprovacions, encara que més endavant comprovarem el funcionament del GA amb aquestes 3 funcions."
      ]
    },
    {
      "cell_type": "code",
      "metadata": {
        "id": "IsxBIchL0yBp"
      },
      "source": [
        "def fopt1(ind):\n",
        "\n",
        "  x0 = [ind[len(ind)-1]]\n",
        "  xlast = [ind[0]]\n",
        "  working_array = np.concatenate((x0,ind,xlast))\n",
        "  res = 0\n",
        "\n",
        "  for j in range(1, len(ind)+1):\n",
        "    res += (2*working_array[j-1] + (working_array[j]**2)*working_array[j+1] - working_array[j+1])**2\n",
        "\n",
        "  return res\n",
        "\n",
        "def fopt8(ind):\n",
        "\n",
        "  x0 = [ind[len(ind)-1]]\n",
        "  xlast = [ind[0]]\n",
        "  working_array = np.concatenate((x0,ind,xlast))\n",
        "  term = ((working_array[1]+1)**2)/len(ind)\n",
        "  sum = 0\n",
        "\n",
        "  for j in range(1, len(ind)+1):\n",
        "    sum += (working_array[j] - 2*(working_array[j-1] + working_array[j+1]) - working_array[j-1]*working_array[j+1] - 2)**2\n",
        "\n",
        "  return term + sum\n",
        "\n",
        "def fopt13(ind):\n",
        "\n",
        "  x0 = [ind[len(ind)-2]]\n",
        "  xlast = [ind[0]]\n",
        "  working_array = np.concatenate((x0,ind,xlast))\n",
        "  sum0 = 0\n",
        "  sum1 = 0\n",
        "\n",
        "  for j in range(1, len(ind)+1):\n",
        "    sum0 += (working_array[j-1]*working_array[j]**4 - working_array[j+1]*working_array[j]**3 + working_array[j-1]*working_array[j+1] - working_array[j+1])**2\n",
        "\n",
        "  for j in range(len(ind)):\n",
        "    sum1 += ind[j]\n",
        "\n",
        "  return sum0 + sum1\n"
      ],
      "execution_count": null,
      "outputs": []
    },
    {
      "cell_type": "markdown",
      "metadata": {
        "id": "zosglWXGN5US"
      },
      "source": [
        "<hr>"
      ]
    },
    {
      "cell_type": "markdown",
      "metadata": {
        "id": "_5QnREl18SYq"
      },
      "source": [
        "Aquestes funcions suposen un problema interessant a l'hora de trobar els seus mínims absoluts. Per això, de moment ens centrarem en el problema de minimitzar una funció. Considerarem que els nostres problemes d'optimització consisteixen en minimitzar les funcions objectiu."
      ]
    },
    {
      "cell_type": "markdown",
      "metadata": {
        "id": "YJx-m9npYFsh"
      },
      "source": [
        "**1.c) (1 PUNT) Implementar la funció *eval_pop*, que rep una determinada població d'individus i una funció d'avaluació (normalment anomenada *fitness function*) i retorna una llista ordenada de tuples, en què el primer element és un individu de la població i el segon element és la seva corresponent puntuació.\n",
        "La llista de tuples retornada haurà d'estar ordenada en ordre decreixent (el primer element és el que millor resultat ha obtingut).**\n",
        "\n",
        "\n"
      ]
    },
    {
      "cell_type": "code",
      "metadata": {
        "id": "rtDgIdS7Oy5L"
      },
      "source": [
        "def eval_pop(pop, f):\n",
        "  # Returns a list of tuples in descending order of the goodness of f. Shape of tuples are (individual, score), e.g., ([2.3,0.004,1,8.2,6], 0.361).\n",
        "\n",
        "  # TO DO: Implement the function\n",
        "\n",
        "  # Your code here ...\n",
        "\n",
        "  # END OF TO DO\n",
        "\n",
        "  return sorted_list\n",
        "\n"
      ],
      "execution_count": null,
      "outputs": []
    },
    {
      "cell_type": "markdown",
      "metadata": {
        "id": "u9eEUwtmZW-k"
      },
      "source": [
        "**Resposta:**"
      ]
    },
    {
      "cell_type": "code",
      "metadata": {
        "id": "02wrgNzGZSFi"
      },
      "source": [
        "def eval_pop(pop, f):\n",
        "  # Returns a list of tuples in descending order of the goodness of f. Shape of tuples are (individual, score), e.g., ([2.3,0.004,1,8.2,6], 0.361).\n",
        "\n",
        "  evaluated_pop = [(ind, f(ind)) for ind in pop]\n",
        "  sorted_list = sorted(evaluated_pop, key = lambda x: x[1])\n",
        "\n",
        "  return sorted_list\n",
        "\n"
      ],
      "execution_count": null,
      "outputs": []
    },
    {
      "cell_type": "markdown",
      "metadata": {
        "id": "xBl8jnpM8TB_"
      },
      "source": [
        "<hr>"
      ]
    },
    {
      "cell_type": "markdown",
      "metadata": {
        "id": "h9Jjeq4Ibs_J"
      },
      "source": [
        "## EXERCICI 2"
      ]
    },
    {
      "cell_type": "markdown",
      "metadata": {
        "id": "9hykevFm8kcb"
      },
      "source": [
        "Un cop tenim la nostra població ordenada segons la bondat de el resultat de cada individu, estem en disposició d'aplicar la resta d'operadors genètics. Un pas necessari per poder produir una següent generació d'individus és el de seleccionar les parelles que es creuaran per tenir descendència.\n",
        "\n",
        "Per a això, comptem amb el següent codi que, com es pot observar, tan sols treballa amb poblacions de tamany superior a 9:\n",
        "\n"
      ]
    },
    {
      "cell_type": "code",
      "metadata": {
        "id": "4E8IBjF15blw"
      },
      "source": [
        "def couples_selection(ordered_pop, n_elitism):\n",
        "\n",
        "  if len(ordered_pop) < 10:\n",
        "    print(\"Error: population's size should be higher than 9\")\n",
        "    return\n",
        "\n",
        "  len_a = int(len(ordered_pop)/10)\n",
        "  len_b = len_a * 3\n",
        "  len_c = len_a * 4\n",
        "\n",
        "  a = np.ones(len_a) * 0.5 / len_a\n",
        "  b = np.ones(len_b) * 0.3 / len_b\n",
        "  c = np.ones(len_c) * 0.15 / len_c\n",
        "  d = np.ones(len(ordered_pop) - len_a*8)\n",
        "  d = d * 0.05 / len(d)\n",
        "\n",
        "  prob = np.concatenate((a,b,c,d))\n",
        "  indices = range(len(ordered_pop))\n",
        "  selected_indices = [choice(indices, 2, p=prob) for i in range(len(ordered_pop) - n_elitism)]\n",
        "  couples = [[ordered_pop[i1], ordered_pop[i2]] for [i1,i2] in selected_indices]\n",
        "  return np.array(couples)\n"
      ],
      "execution_count": null,
      "outputs": []
    },
    {
      "cell_type": "markdown",
      "metadata": {
        "id": "xgerbkzJ8rYS"
      },
      "source": [
        "**2.a) (1 PUNT) Explicar detalladament què fa la funció *couples_selection*: què són els arguments que rep, què torna, quines comprovacions es fan, quin és el criteri de selecció, el perquè de *n_elitism*, etc.**"
      ]
    },
    {
      "cell_type": "markdown",
      "metadata": {
        "id": "9ieD-d1msSef"
      },
      "source": [
        "**Resposta:**\n",
        "\n",
        "L'objectiu fonamental de la funció és aparellar individus, així que el valor de retorn és una matriu de parelles.\n",
        "\n",
        "Per realitzar els diferents aparellaments, l'algorisme té en compte la bondat de cada individu. Considerant que la funció espera una llista ordenada d'individus, la funció divideix la població en 4 grups:\n",
        "\n",
        "1. El primer tindrà una mida d'aproximadament el 10% de la població d'entrada (variarà lleugerament depenent de si la mida de la població d'entrada és múltiple de 10 o no).\n",
        "2. El segon tindrà una mida del 30% de la població d'entrada.\n",
        "3. El tercer, un 40%.\n",
        "4. Finalment, el quart tindrà una mida igual a la diferència entre la suma dels anteriors 3 i la població d'entrada (aproximadament un 20% de la mida de la població d'entrada).\n",
        "\n",
        "Als individus de cada grup se'ls assigna una probabilitat de ser escollits:\n",
        "\n",
        "1. La probabilitat d'escollir un individu del grup 1 és 0.5.\n",
        "2. La probabilitat d'escollir un individu del grup 2 és 0.3.\n",
        "3. La probabilitat d'escollir un individu del grup 3 és 0.15.\n",
        "4. La probabilitat d'escollir un individu del grup 4 és 0.05.\n",
        "\n",
        "Així doncs, és d'aquesta manera com es defineix el criteri de selecció de parelles: cada parella estarà formada per dos individus, la probabilitat de ser escollits depèn de el grup a què pertanyen, i la seva pertinença a un grup o un altre depèn de la puntuació que ha obtingut prèviament en ser avaluats. El 10% de millors individus tenen major probabilitat de ser escollits que el següent 30%, que tenen major probabilitat de ser escollits que el següent 40%, que tenen major probabilitat de ser escollits que l'últim grup, que té la mida restant.\n",
        "\n",
        "Tan sols es realitza una simple comprovació a l'inici de la funció, que simplement assegura que tractem amb poblacions de mida mínima 10.\n",
        "\n",
        "Tenint en compte tot l'anterior, s'estableixen les probabilitats de cada un dels individus perquè, mitjançant la funció *random*, s'escullin les corresponents parelles en base a aquestes probabilitats. Això es fa mitjançant la selecció de 2 en 2 a partir d'una llista d'índexs. Un cop tenim totes les parelles d'índexs, se seleccionen els corresponents individus en la població d'entrada.\n",
        "\n",
        "En aquest moment entra en joc el factor de l'**elitisme**. Analitzant el codi, es pot veure que la llista d'índexs tindrà una mida igual a el de la població d'entrada menys la variable *n_elitism*, de manera que es pot deduir fàcilment que el nostre GA considera que els millors *n_elitism* individus d'una determinada generació passaran directament a la següent generació.\n"
      ]
    },
    {
      "cell_type": "markdown",
      "metadata": {
        "id": "8DxMZqcZ77S_"
      },
      "source": [
        "<hr>\n"
      ]
    },
    {
      "cell_type": "markdown",
      "metadata": {
        "id": "tIr3Mlcn9pEW"
      },
      "source": [
        "En aquesta versió simplificada del nostre GA, considerarem que cada parella només pot produir un descendent, i que la manera de produir sempre serà mitjançant l'estratègia d'encreuament en dos punts (**veure apartat 5.5.1 dels apunts de l'assignatura, especialment la figura 52**).\n",
        "\n",
        "Com ja sabem, en un pas evolutiu, després d'haver seleccionat les diferents parelles que tindran descendència, aquestes es creuen i, en aquest punt, poden sorgir mutacions.\n",
        "\n",
        "En la nostra versió simplificada del nostre GA, el resultat de tot aquest procés seria el que retorna la funció *get_offspring* a continuació, que torna un array d'individus de la mateixa mida que l'array de parelles d'entrada, i que té en compte els processos d'encreuament i mutació anteriorment descrits."
      ]
    },
    {
      "cell_type": "markdown",
      "metadata": {
        "id": "FWkKThS19pEW"
      },
      "source": [
        "**2.b) (2 PUNTS) Tenint en compte les funcions *mutate* i *get_offspring* proporcionades a continuació, completar la definició de la funció *crossover*, que rep una parella d'individus i retorna un nou individu resultat d'aplicar l'estratègia d'encreuament en 2 punts. El tipus de el resultat serà *ndarray*. Podeu consultar la documentació de [numpy.concatenate] (https://numpy.org/doc/stable/reference/generated/numpy.concatenate.html), per si us és útil per a formar el nou individu.**\n",
        "\n",
        "**NOTA: NO està permès modificar les funcions *mutate* i *get_offspring*. La funció *crossover* s'ha d'adaptar a elles tenint en compte com és cridada. És important notar que la funció *crossover* no necessita realitzar cap tipus de mutació, ja que es realitza després de la seva crida.**"
      ]
    },
    {
      "cell_type": "code",
      "metadata": {
        "id": "Seq-DVREM6B7"
      },
      "source": [
        "def mutate(ind, limits):\n",
        "  # print(\"Mutating individual \", ind)\n",
        "  factor = 1 + (0.2 * choice([-1,1], 1))\n",
        "  gene_index = choice(range(len(ind)), 1)[0]\n",
        "  mutated_val = ind.item(gene_index) * factor\n",
        "\n",
        "  if mutated_val < limits[gene_index][0]:\n",
        "    mutated_val = limits[gene_index][0]\n",
        "  elif mutated_val > limits[gene_index][1]:\n",
        "    mutated_val = limits[gene_index][1]\n",
        "\n",
        "  ind[gene_index] = mutated_val\n",
        "\n",
        "  return\n",
        "\n",
        "def crossover(couple):\n",
        "  ancestor1 = couple[0]\n",
        "  ancestor2 = couple[1]\n",
        "\n",
        "  # TO DO: Complete the crossover function according to what's described in section 5.5.1 and figure 52 of the subject's materials.\n",
        "\n",
        "  # Your code here ...\n",
        "\n",
        "  # END OF TO DO\n",
        "\n",
        "\n",
        "\n",
        "def get_offspring(couples, mutp, limits):\n",
        "\n",
        "  children = [crossover(couple) for couple in couples]\n",
        "  mutation_roulette = [choice([True, False], 1, p=[mp, 1-mp]) for _ in children]\n",
        "  children_roulette = list(zip(children, mutation_roulette))\n",
        "\n",
        "  for child in children_roulette:\n",
        "    if child[1][0]:\n",
        "      mutate(child[0], limits)\n",
        "      # print(\"Mutated: \",child[0])\n",
        "\n",
        "  return np.array([child[0] for child in children_roulette])\n",
        "\n",
        "\n",
        "\n"
      ],
      "execution_count": null,
      "outputs": []
    },
    {
      "cell_type": "markdown",
      "metadata": {
        "id": "3aNyPuEn2NLd"
      },
      "source": [
        "**Resposta:**"
      ]
    },
    {
      "cell_type": "code",
      "metadata": {
        "id": "CKozoyXJ2ITr"
      },
      "source": [
        "def mutate(ind, limits):\n",
        "  # print(\"Mutating individual \", ind)\n",
        "  factor = 1 + (0.2 * choice([-1,1], 1))\n",
        "  gene_index = choice(range(len(ind)), 1)[0]\n",
        "  mutated_val = ind.item(gene_index) * factor\n",
        "\n",
        "  if mutated_val < limits[gene_index][0]:\n",
        "    mutated_val = limits[gene_index][0]\n",
        "  elif mutated_val > limits[gene_index][1]:\n",
        "    mutated_val = limits[gene_index][1]\n",
        "\n",
        "  ind[gene_index] = mutated_val\n",
        "\n",
        "  return\n",
        "\n",
        "def crossover(couple):\n",
        "  ancestor1 = couple[0]\n",
        "  ancestor2 = couple[1]\n",
        "\n",
        "  ind_len = len(ancestor1)\n",
        "  c1 = choice(range(1, int(ind_len/2)), 1)[0]\n",
        "  c2 = choice(range(int(ind_len/2), ind_len-1), 1)[0]\n",
        "\n",
        "  a1_chunks = np.array([ancestor1[:c1], ancestor1[c1:c2], ancestor1[c2:]])\n",
        "  a2_chunks = np.array([ancestor2[:c1], ancestor2[c1:c2], ancestor2[c2:]])\n",
        "\n",
        "  return np.concatenate((a1_chunks[0], a2_chunks[1], a1_chunks[2]))\n",
        "\n",
        "def get_offspring(couples, mutp, limits):\n",
        "\n",
        "  children = [crossover(couple) for couple in couples]\n",
        "  mutation_roulette = [choice([True, False], 1, p=[mutp, 1-mutp]) for _ in children]\n",
        "  children_roulette = list(zip(children, mutation_roulette))\n",
        "\n",
        "  for child in children_roulette:\n",
        "    if child[1][0]:\n",
        "      mutate(child[0], limits)\n",
        "      # print(\"Mutated: \",child[0])\n",
        "\n",
        "  return np.array([child[0] for child in children_roulette])\n",
        "\n",
        "\n",
        "\n"
      ],
      "execution_count": null,
      "outputs": []
    },
    {
      "cell_type": "markdown",
      "metadata": {
        "id": "DGGw6lsg3ZP1"
      },
      "source": [
        "## EXERCICI 3"
      ]
    },
    {
      "cell_type": "markdown",
      "metadata": {
        "id": "YIaG9Sk591j0"
      },
      "source": [
        "En aquest punt, ja disposem dels operadors de generació de població aleatòria, avaluació, selecció, encreuament i mutació, així com d'una funció que ens genera la descendència d'una sèrie de parelles. Sembla que estem preparats per a completar el nostre algorisme genètic!\n",
        "\n"
      ]
    },
    {
      "cell_type": "markdown",
      "metadata": {
        "id": "j2cn-coJ3-T9"
      },
      "source": [
        "**3) (2.5 PUNTS) Completeu la següent definició de *runGA*, que rep una mida de població (*npop*), una mida d'individu (*ngenes*), uns límits per a cada gen dels individus (*limits*), una funció objectiu (*fitness*) per avaluar a cada individu, un factor d'elitisme (*nelitism*), una probabilitat de mutació (*mutp*) i un nombre de generacions (*ngenerations*).**\n",
        "\n",
        "La funció aplicarà els diferents operadors evolutius EN L'ORDRE ADEQUAT durant *ngenerations*, i donarà com a resultat l'individu guanyador de la població corresponent a l'última generació juntament amb la seva puntuació obtinguda.\n",
        "\n",
        "**MOLT IMPORTANT: Expliqueu i justifiqueu la vostra implementació. El lliurament de codi sense raonament ni justificació serà avaluat amb un 0, tot i que l'algorisme funcioni correctament.**\n",
        "\n",
        "NOTA 1: Podeu definir totes les funcions auxiliars que considereu oportunes, o realitzar tots els vostres càlculs dins de la pròpia funció *runGA*. En qualsevol cas, cal que expliqueu i justifiqueu degudament totes les accions que dueu a terme.\n",
        "\n",
        "NOTA 2: Una possible execució d'aquest algorisme podria ser la següent:\n",
        "\n",
        "````\n",
        "> runGA(1000, 5, list(zip(np.ones(5)*-2,np.ones(5)*2)), fopt13, 4, 0.4, 25)\n",
        "\n",
        "Winner after generation 0 : (array([-1.16228187, -0.92100491, -0.71327896,  0.20645224, -0.31941844]), -1.3719550258326878)\n",
        "Winner after generation 1 : (array([-1.16228187, -0.92100491, -0.71327896,  0.20645224, -0.31941844]), -1.3719550258326878)\n",
        "Winner after generation 2 : (array([-0.98088075, -0.56069746, -0.74013361, -0.94272366, -1.05304763]), -1.504570220226677)\n",
        "Winner after generation 3 : (array([-0.98088075, -0.81577616, -0.74013361, -0.94272366, -1.05304763]), -2.6628565757698066)\n",
        "Winner after generation 4 : (array([-0.98088075, -0.86245533, -0.99179012, -0.94272366, -1.05304763]), -3.8677707421578926)\n",
        "Winner after generation 5 : (array([-0.98088075, -0.86245533, -0.99179012, -0.94272366, -1.05304763]), -3.8677707421578926)\n",
        "Winner after generation 6 : (array([-0.98088075, -0.86245533, -0.99179012, -0.94272366, -1.05304763]), -3.8677707421578926)\n",
        "Winner after generation 7 : (array([-0.98088075, -1.03494639, -0.99179012, -0.94272366, -1.05304763]), -4.56395601696479)\n",
        "\n",
        "...\n",
        "\n",
        "Winner after generation 24 : (array([-0.98088075, -0.99354853, -0.99179012, -0.94272366, -1.01092573]), -4.748795961685159)\n",
        "\n",
        "Absolute winner:\n",
        "(array([-0.98088075, -0.99354853, -0.99179012, -0.94272366, -1.01092573]),\n",
        " -4.748795961685159)\n",
        "````\n"
      ]
    },
    {
      "cell_type": "code",
      "metadata": {
        "id": "AUlxZxLzNtvC"
      },
      "source": [
        "def runGA(npop, ngenes, limits, fitness, nelitism, mutp, ngenerations):\n",
        "  pop = generate_random_population(npop, limits, ngenes)\n",
        "  sorted_pop_with_score = eval_pop(pop, fitness)\n",
        "  new_pop = np.array([p[0] for p in sorted_pop_with_score])\n",
        "\n",
        "  for g in range(ngenerations):\n",
        "\n",
        "    # TO DO: Complete your GA!\n",
        "\n",
        "    # Your code here ...\n",
        "\n",
        "    # END OF TO DO\n",
        "\n",
        "    print(\"Winner after generation\", g, \":\")\n",
        "\n",
        "  print(\"Absolute winner:\")\n",
        "  return sorted_pop_with_score[0]"
      ],
      "execution_count": null,
      "outputs": []
    },
    {
      "cell_type": "markdown",
      "metadata": {
        "id": "UcfbbRhC6zvW"
      },
      "source": [
        "**Resposta:**"
      ]
    },
    {
      "cell_type": "code",
      "metadata": {
        "id": "oWz8JtV56xX1"
      },
      "source": [
        "def runGA(npop, ngenes, limits, fitness, nelitism, mutp, ngenerations):\n",
        "  pop = generate_random_population(npop, limits, ngenes)\n",
        "  sorted_pop_with_score = eval_pop(pop, fitness)\n",
        "  new_pop = np.array([p[0] for p in sorted_pop_with_score])\n",
        "\n",
        "  for g in range(ngenerations):\n",
        "\n",
        "    couples = couples_selection(new_pop, nelitism)\n",
        "    offspring = get_offspring(couples, mutp, limits)\n",
        "    population_to_eval = np.concatenate((new_pop[:nelitism], offspring))\n",
        "    sorted_pop_with_score = eval_pop(population_to_eval, fitness)\n",
        "    new_pop = np.array([p[0] for p in sorted_pop_with_score])\n",
        "    print(\"Winner after generation\", g, \":\", sorted_pop_with_score[0])\n",
        "\n",
        "  print(\"Absolute winner:\")\n",
        "  return sorted_pop_with_score[0]"
      ],
      "execution_count": null,
      "outputs": []
    },
    {
      "cell_type": "markdown",
      "metadata": {
        "id": "7LmaZvYl7vxE"
      },
      "source": [
        "**RAONAMENT I JUSTIFICACIÓ:**\n",
        "\n",
        "Seguint el plantejament dels apunts de l'assignatura i tenint en compte el fragment de codi proporcionat, la funció principal de l'algorisme serà la d'anar evolucionant la població inicial en un nombre de passos evolutius definit per *ngenerations* (bucle principal dins de la funció).\n",
        "\n",
        "El codi proporcionat genera una població a l'atzar i l'ordena segons la seva funció *fitness* abans d'entrar a la primera iteració de l'bucle. Així, és d'esperar que cada iteració comenci amb l'evolució de la població de l'anterior iteració a la variable *new_pop*.\n",
        "\n",
        "Per evolucionar una determinada població, primer seleccionarem les parelles que tindran descendència utilitzant la funció *couples_selection* de l'Exercici 2. A partir de la selecció de parelles, obtindrem la seva descendència mitjançant la funció *get_offspring* de l'Exercici 2b.\n",
        "\n",
        "Cal destacar que la selecció de parelles es realitza tenint en compte el factor d'elitisme. Així, sabent que cada parella tindrà un únic descendent (per la definició de la funció *crossover* de l'Exercici 2b), en passar directament l'argument *nelitism* a la funció *couples_selection*, sabem que obtindrem un nombre de parelles (i, per tant, de fills després de *get_offspring*) igual a la mida de *new_pop* menys *nelitism*.\n",
        "\n",
        "El següent pas seria avaluar i ordenar la nova població, però considerant l'anterior raonament, la població a avaluar ha d'incloure els individus de la població anterior que passen a la següent generació per elitisme. En aquesta solució això s'aconsegueix amb el mètode *np.concatenate*.\n",
        "\n",
        "Arribats a aquest punt, l'únic que queda per fer és avaluar la població de la generació actual i ordenar-la segons el seu *fitness*. Això s'aconsegueix amb les mateixes 2 instruccions immediatament anteriors a entrar al bucle.\n",
        "\n",
        "Quan el bucle acaba, la funció retorna l'individu a la primera posició de l'última població, que es considera el guanyador (millor solució) de tot el procés evolutiu."
      ]
    },
    {
      "cell_type": "markdown",
      "metadata": {
        "id": "tXHzIdRx8bvK"
      },
      "source": [
        "<hr>"
      ]
    },
    {
      "cell_type": "markdown",
      "metadata": {
        "id": "eoHrnH87s1xT"
      },
      "source": [
        "## EXERCICI 4"
      ]
    },
    {
      "cell_type": "markdown",
      "metadata": {
        "id": "fMjGpTV1-8WP"
      },
      "source": [
        "Ja disposem d'un GA implementat. Ara anem a posar-lo a prova i raonar sobre el seu comportament i característiques.\n"
      ]
    },
    {
      "cell_type": "markdown",
      "metadata": {
        "id": "J5LyRnVCtN6K"
      },
      "source": [
        "**4.a) (1 PUNT) Realitzeu diverses execucions de l'algorisme per tractar d'optimitzar les funcions *fopt1, fopt8 i fopt13* proporcionades en l'exercici 1. Utilitzeu diferents combinacions de paràmetres que afectin el procés evolutiu i expliqueu la influència de cada un d'ells segons els valors que els assigneu.**\n",
        "\n",
        "**Considereu la descripció que es dóna de cadascuna de les funcions en l'article referenciat. Això us ajudarà a avaluar el rendiment del vostre algorisme en funció de el valor dels seus paràmetres. Fixeu-vos en els valors mínims teòrics que s'hi indiquen.**\n",
        "\n",
        "**NOTA: Podeu fixar *ngenes* amb valor 5 per als vostres anàlisi.**\n",
        "\n",
        "**NOTA 2: Pareu atenció als dominis de les funcions que indica l'article a l'hora de fixar els límits: per *fopt1* i *fopt13* els límits són -2 i 2, mentre que per *fopt8* els límits són -3 i 3.**"
      ]
    },
    {
      "cell_type": "markdown",
      "metadata": {
        "id": "ySyDaXRYyCCw"
      },
      "source": [
        "**Resposta:**"
      ]
    },
    {
      "cell_type": "markdown",
      "metadata": {
        "id": "ico0k_1m9tLZ"
      },
      "source": [
        "\n",
        "Sabem que una major grandària de població és equivalent a tenir una major varietat de solucions a considerar en un mateix pas evolutiu, però a més permet una major riquesa a l'hora de realitzar encreuaments entre els diferents passos evolutius, de manera que la probabilitat de trobar més aviat millors solucions augmenta, encara que cal tenir en compte el cost computacional associat.\n",
        "\n",
        "D'altra banda, el nombre de generacions indica el nombre de passos evolutius en els quals apliquem els diferents operadors que ens guien en la nostra recerca dins de l'espai de solucions. Òbviament, com més generacions s'executin, major probabilitat d'arribar al valor òptim, però de nou hem de tenir en compte el cost computacional.\n",
        "\n",
        "L'elitisme permet assegurar que la solució guanyadora en una determinada generació és, almenys, igual de bona que en la generació anterior. No només això; si mantenim als millors individus d'una generació, augmentem la probabilitat que els encreuaments a la següent continguin gens d'individus molt ben adaptats al problema, de manera que es permet explorar més a fons un subespai de solucions que ha resultat ser \"bo\" anteriorment. No obstant això, un factor d'elitisme molt elevat va en detriment de la riquesa i varietat en la població i també augmenta la probabilitat de quedar atrapats en mínims / màxims locals.\n",
        "\n",
        "La probabilitat de mutació, en la nostra versió \"senzilla\" de GA, permet afegir un component d'atzar que resulta molt important per poder escapar de màxims / mínims locals. No obstant això, abusar d'aquest paràmetre pot arribar a fer que el procés evolutiu perdi sentit, ja que ens dirigiríem cap a un enfocament proper a la generació reiterativa d'individus a l'atzar.\n",
        "\n",
        "Tenint en compte això, a la definició de les funcions se'ns indica el següent:\n",
        "\n",
        "* Per *fopt1* se'ns diu que presenta un mínim global teòric amb valor 0 per x = (0,0, ..., 0)\n",
        "* Per *fopt8* se'ns diu que presenta un mínim global teòric amb valor 0 per x = (- 1, -1, ..., -1), però també presenta un mínim local proper a el punt (-2, -2 , ..., -2) que pot arribar a atrapar al nostre algorisme.\n",
        "* Per *fopt13* se'ns diu que presenta un mínim global teòric amb valor proper a *-n* (on *n* correspon al nostre número de gens) en un punt molt proper a (-1, -1, ... , -1), però presenta diversos mínims locals que poden posar a prova el nostre algorisme, especialment el situat a l'origen, amb valor 0.\n",
        "\n",
        "Hi ha infinites combinacions dels paràmetres d'entrada, però jugant amb valors raonables per a cadascun d'ells, de seguida es comprova el que s'ha comentat.\n",
        "\n",
        "Pel que fa a la mida de població, unes poques proves serveixen per comprovar en tots els casos que una mida de població per sota de 100 no introdueix la suficient variabilitat d'individus com per convergir cap a una solució sense que l'algorisme es quedi estancat durant moltes generacions seguides. Un ordre de magnitud major (1000) sembla funcionar molt bé sense penalitzar en excés la velocitat de l'execució. A partir de 5000 es comença a percebre un descens en el rendiment, sense que les solucions millorin notablement entre generació i generació, comparat amb poblacions de 1000.\n",
        "\n",
        "Pel que fa a nombre de generacions, de seguida es pot observar que menys de 10 generacions realment donen molt poca oportunitat d'aplicar l'estratègia evolutiva, i la bondat del resultat final depèn moltíssim de la *sort* que hàguem tingut a la generació aleatòria de la població inicial. A partir de 25 generacions es pot apreciar l'impacte d'aquest factor, i amb valors entre 50 i 100 s'arriben a solucions molt properes a l'òptim a la majoria de les execucions (amb poblacions de mida al voltant de 1000 i valors d'elitisme i mutació *raonables*, segons el que s'explica a continuació).\n",
        "\n",
        "Tal i com es comenta anteriorment, l'elitisme és molt profitós i permet que la nostra solució mai empitjori amb el pas de les generacions, però un excés deriva en menor riquesa d'una població respecte a l'anterior. Generalment, valors entre l'1% i el 5% de la mida de la població donen bons resultats.\n",
        "\n",
        "Finalment, l'efecte de la probabilitat de mutació s'aprecia molt bé especialment en els casos *fopt8* i *fopt13*, on ja se'ns adverteix que es tracta de funcions amb diferents mínims locals que poden atrapar fàcilment a diferents algorismes d'optimització. En aquests casos, es pot apreciar una diferència pel que fa a l'evolució entre generacions (evitació d'estancament) en passar de valors baixos, com 0.05, a valors moderadament alts, com 0.4, amb el que s'augmenta la probabilitat d'escapar de mínims locals .\n"
      ]
    },
    {
      "cell_type": "markdown",
      "metadata": {
        "id": "NFyP6AYVA-xd"
      },
      "source": [
        "**4.b) (0.5 PUNTS) Quina és la condició de finalització del nostre GA en el seu estat actual? Expliqueu una alternativa raonable per a finalitzar l'execució l'algorisme, justificant els motius per implementar-la, les seves característiques, així com precaucions, avantatges i desavantatges que pugui presentar.**\n",
        "\n",
        "\n",
        "**NOTA: No cal implementar cap codi, però sí justificar adequadament la resposta.**"
      ]
    },
    {
      "cell_type": "markdown",
      "metadata": {
        "id": "TTrNv7JJyC8a"
      },
      "source": [
        "**Resposta:**"
      ]
    },
    {
      "cell_type": "markdown",
      "metadata": {
        "id": "rBPNYlKQyGNa"
      },
      "source": [
        "El GA que acabem de completar finalitza la seva execució quan realitza totes les iteracions indicades en el paràmetre *ngenerations*. No hi ha cap condició de ruptura addicional que alteri el flux de l'algoritme.\n",
        "\n",
        "Una alternativa interessant seria afegir una condició de **convergència**. Això augmentaria el rendiment de l'algorisme especialment en casos en què l'individu guanyador no canvia al llarg d'una sèrie de generacions consecutives, la qual cosa indica el descobriment de la solució òptima o bé d'un màxim / mínim local de difícil escapament.\n",
        "\n",
        "Aquesta condició es podria implementar simplement comparant el resultat obtingut a una determinada generació amb les *n* anteriors. La determinació de *n* hauria de realitzar-se amb cura, i tenint en compte les característiques de el problema que es pretén optimitzar, però caldria deixar suficient marge de generacions perquè l'algorisme no acabés cada vegada que trobés un màxim / mínim local i pogués beneficiar-se de la varietat que introdueixen els diferents operadors genètics, especialment el de la **mutació**, molt important a l'hora de donar l'habilitat d'escapar d'aquests mínims / màxims locals.\n",
        "\n",
        "Una altra alternativa molt simple seria la d'establir un valor de *fitness* que es considerés *prou bo*. Un cop assolit aquest valor, es podria aturar l'execució de la funció trencant el bucle i retornant la solució. Això podria no optimitzar la funció en qüestió, però seria acceptable si la definició del nostre problema ens ho permet.\n",
        "\n",
        "Això últim també podria combinar-se amb l'alternativa de la convergència, per exemple, finalitzant l'execució de l'algoritme quan la solució porta les *n* últimes generacions per sota / sobre d'un valor llindar."
      ]
    },
    {
      "cell_type": "markdown",
      "metadata": {
        "id": "gaeDEEmKBqZj"
      },
      "source": [
        "**4.c) (0.5 PUNTS) Quines modificacions caldria fer perquè el nostre GA acceptés tant problemes de maximització com de minimització?**\n",
        "\n",
        "**NOTA: No cal implementar cap codi, però sí justificar adequadament la resposta.**"
      ]
    },
    {
      "cell_type": "markdown",
      "metadata": {
        "id": "2_Caqo8aBE5m"
      },
      "source": [
        "**Resposta:**"
      ]
    },
    {
      "cell_type": "markdown",
      "metadata": {
        "id": "8sOcRfer3hP2"
      },
      "source": [
        "En realitat, l'única manera en què l'algorisme considera com de bo és un individu és mitjançant la seva posició en una llista ordenada. Fins ara, el nostre GA funciona per problemes de minimització perquè el resultat de *eval_pop* és una llista ordenada creixent pel que fa a valor de la funció (el que significa decreixent pel que fa a bondat de la solució en un problema de minimització).\n",
        "\n",
        "Tant a l'hora de considerar el millor individu, com a l'hora d'aplicar elitisme, com a l'hora de seleccionar les parelles per creuar-se, considerem que els millors individus són els primers de la llista, i els pitjors els últims.\n",
        "\n",
        "Així, una manera simple de permetre minimitzar o maximitzar segons vulgui l'usuari seria afegir un paràmetre booleà a la funció *eval_pop* que ens indiqués si es vol una acció o l'altra, i un constructe if-else per actuar en conseqüència. En el nostre cas, si tal paràmetre ens indica que volem maximitzar, n'hi hauria prou amb tornar la mateixa llista, però invertida:\n",
        "\n",
        "````\n",
        "def eval_pop(pop, f, isMaximizationProblem):\n",
        "  # Returns a list of tuples in descending order of the goodness of f. Shape of tuples are (individual, score), e.g., ([2.3,0.004,1,8.2,6], 0.361).\n",
        "\n",
        "  evaluated_pop = [(ind, f(ind)) for ind in pop]\n",
        "\n",
        "  if isMaximizationProblem:\n",
        "    sorted_list = list(reversed(sorted(evaluated_pop, key = lambda x: x[1])))\n",
        "  else:\n",
        "    sorted_list = sorted(evaluated_pop, key = lambda x: x[1])\n",
        "  \n",
        "  return sorted_list\n",
        "````\n",
        "\n",
        "Evidentment, el paràmetre *isMaximizationProblem* hauria de venir indicat des de la funció *runGA*, de manera que aquesta funció també hauria de rebre-ho com argument.\n"
      ]
    },
    {
      "cell_type": "markdown",
      "metadata": {
        "id": "fnqVyEjFCOzC"
      },
      "source": [
        "**4.d) (0.5 PUNTS) Se'ns planteja que modifiquem el nostre GA perquè sigui multiobjectiu. És a dir, que tingui en compte 2 funcions *fitness* a l'hora d'avaluar una solució, podent requerir minimitzar les dues, maximitzar totes dues, o minimitzar una i maximitzar l'altra. Quines modificacions hauríem implementar per aconseguir-ho?**\n",
        "\n",
        "**NOTA: No cal implementar cap codi, però sí justificar adequadament la resposta.**"
      ]
    },
    {
      "cell_type": "markdown",
      "metadata": {
        "id": "o0n9hchhBHdu"
      },
      "source": [
        "**Resposta:**"
      ]
    },
    {
      "cell_type": "markdown",
      "metadata": {
        "id": "SRT8JL-L7M2S"
      },
      "source": [
        "En primer lloc, caldria rebre les 2 funcions com a paràmetres tant a *runGA* com a *eval_pop*.\n",
        "\n",
        "A partir d'aquí, la qüestió es redueix a una ponderació entre les dues funcions, és a dir, quant pes li donem a cadascuna d'elles a l'hora d'avaluar la bondat de cada individu. Tant es podria aplicar la mitjana aritmètica entre els valors obtinguts, com aplicar una tercera funció a mida definida per l'usuari (i passada com a argument a *eval_pop*) que tingui en compte els dos resultats.\n",
        "\n",
        "Per poder considerar si es maximitzen totes dues, es minimitzen totes dues, o es minimitza una i maximitza altra, caldria un paràmetre per cadascuna de les funcions que indiqués què es requereix respectivament, per a posteriorment aplicar una lògica anàloga a la de l'exercici 4c per a cada una de les funcions, abans de ponderar els valors obtinguts per l'individu. Una altra alternativa seria considerar que la tercera funció de ponderació comentada abans ja tingués en compte això de manera implícita."
      ]
    }
  ]
}